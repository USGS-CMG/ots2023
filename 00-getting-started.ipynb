{
 "cells": [
  {
   "cell_type": "markdown",
   "id": "c741b193",
   "metadata": {},
   "source": [
    "# Getting started\n",
    "\n",
    "This is a Jupyter Notebook. First, click Help -> User Interface Tour to get an idea of how a Notebook works.\n",
    "\n",
    "\n",
    "To run a cell, press Shift-Enter. Cells in Jupyter Notebooks are like Matlab code cells."
   ]
  },
  {
   "cell_type": "code",
   "execution_count": null,
   "id": "bd7c666c",
   "metadata": {},
   "outputs": [],
   "source": [
    "import stglib\n",
    "import numpy as np\n",
    "import matplotlib.pyplot as plt\n",
    "import xarray as xr"
   ]
  },
  {
   "cell_type": "markdown",
   "id": "e25f9404",
   "metadata": {},
   "source": [
    "Running the cell below will show you where stglib is installed"
   ]
  },
  {
   "cell_type": "code",
   "execution_count": null,
   "id": "b8734131",
   "metadata": {},
   "outputs": [],
   "source": [
    "print(stglib.__file__)"
   ]
  },
  {
   "cell_type": "markdown",
   "id": "5155ada1",
   "metadata": {},
   "source": [
    "This will make a simple plot"
   ]
  },
  {
   "cell_type": "code",
   "execution_count": null,
   "id": "f0dd3e1c",
   "metadata": {},
   "outputs": [],
   "source": [
    "x = np.linspace(0, 2*np.pi)\n",
    "y = np.sin(x)\n",
    "plt.plot(x,y, label='sin')\n",
    "y2 = np.cos(x)\n",
    "plt.plot(x, y2, '--', label='cos')\n",
    "plt.legend()\n",
    "plt.show()"
   ]
  },
  {
   "cell_type": "code",
   "execution_count": null,
   "id": "e4556079",
   "metadata": {},
   "outputs": [],
   "source": []
  }
 ],
 "metadata": {
  "kernelspec": {
   "display_name": "Python 3 (ipykernel)",
   "language": "python",
   "name": "python3"
  },
  "language_info": {
   "codemirror_mode": {
    "name": "ipython",
    "version": 3
   },
   "file_extension": ".py",
   "mimetype": "text/x-python",
   "name": "python",
   "nbconvert_exporter": "python",
   "pygments_lexer": "ipython3",
   "version": "3.11.3"
  }
 },
 "nbformat": 4,
 "nbformat_minor": 5
}
