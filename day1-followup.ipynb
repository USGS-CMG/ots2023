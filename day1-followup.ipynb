{
 "cells": [
  {
   "cell_type": "code",
   "execution_count": null,
   "id": "be676a08",
   "metadata": {},
   "outputs": [],
   "source": [
    "import xarray as xr\n",
    "import pandas as pd\n",
    "import matplotlib.pyplot as plt"
   ]
  },
  {
   "cell_type": "markdown",
   "id": "d09fb072",
   "metadata": {},
   "source": [
    "Rachel had a great question about \"why not interpolate?\"\n",
    "\n",
    "Turns out, interpolation is probably a better option. Note that `interp_like()` does not have the tolerance options that `reindex_like()` does."
   ]
  },
  {
   "cell_type": "code",
   "execution_count": null,
   "id": "c6496ae8",
   "metadata": {},
   "outputs": [],
   "source": [
    "df = pd.read_csv('data/rbrCSF20SC201/atmos_pressure.txt')\n",
    "# need to strip the column names because there are spaces after the commas\n",
    "df.columns = df.columns.str.strip()\n",
    "# rename Date Time to time and Pressure to atmpres to match stglib expectations\n",
    "df = df.rename(columns={'Date Time': 'time', 'Pressure': 'atmpres'})\n",
    "# pressure is in mbar, so convert to dbar\n",
    "df['atmpres'] = df['atmpres'] * 0.01\n",
    "# set time to be the index\n",
    "df = df.set_index('time')\n",
    "\n",
    "# and convert to an xarray Dataset\n",
    "atm = df.to_xarray()\n",
    "# ensure time is stored as a datetime\n",
    "atm['time'] = pd.DatetimeIndex(atm['time'])\n",
    "# drop unneeded variables\n",
    "atm = atm.drop(['X', 'N', 'R'])"
   ]
  },
  {
   "cell_type": "code",
   "execution_count": null,
   "id": "e0635b9d",
   "metadata": {},
   "outputs": [],
   "source": [
    "ds = xr.load_dataset('data/rbrCSF20SC201/CSF20SC201pt-raw.cdf')"
   ]
  },
  {
   "cell_type": "code",
   "execution_count": null,
   "id": "04a19130",
   "metadata": {},
   "outputs": [],
   "source": [
    "atmreindex = atm.reindex_like(ds,  method='nearest', tolerance='60min')\n",
    "atminterp = atm.interp_like(ds)\n",
    "# atm = atm.reindex_like(ds,  method='nearest', tolerance='60min')"
   ]
  },
  {
   "cell_type": "code",
   "execution_count": null,
   "id": "cfe4bdfc",
   "metadata": {},
   "outputs": [],
   "source": [
    "atmreindex.atmpres.plot(label='reindex_like')\n",
    "atminterp.atmpres.plot(ls='--', label='interp_like')\n",
    "plt.legend()\n",
    "plt.ylim(10.12, 10.16)\n",
    "plt.xlim(pd.Timestamp('2020-07-17'), pd.Timestamp('2020-07-18'))"
   ]
  },
  {
   "cell_type": "code",
   "execution_count": null,
   "id": "abfabe79",
   "metadata": {},
   "outputs": [],
   "source": [
    "import numpy as np\n",
    "a = np.array([1, 2, 3])"
   ]
  },
  {
   "cell_type": "code",
   "execution_count": null,
   "id": "6a7f28c2",
   "metadata": {},
   "outputs": [],
   "source": [
    "a.mean()"
   ]
  },
  {
   "cell_type": "code",
   "execution_count": null,
   "id": "988dbee5",
   "metadata": {},
   "outputs": [],
   "source": []
  }
 ],
 "metadata": {
  "kernelspec": {
   "display_name": "Python 3 (ipykernel)",
   "language": "python",
   "name": "python3"
  },
  "language_info": {
   "codemirror_mode": {
    "name": "ipython",
    "version": 3
   },
   "file_extension": ".py",
   "mimetype": "text/x-python",
   "name": "python",
   "nbconvert_exporter": "python",
   "pygments_lexer": "ipython3",
   "version": "3.11.3"
  }
 },
 "nbformat": 4,
 "nbformat_minor": 5
}
