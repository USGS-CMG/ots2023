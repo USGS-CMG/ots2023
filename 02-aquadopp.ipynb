{
 "cells": [
  {
   "cell_type": "code",
   "execution_count": null,
   "id": "22b9983a",
   "metadata": {},
   "outputs": [],
   "source": [
    "%matplotlib notebook\n",
    "import xarray as xr"
   ]
  },
  {
   "cell_type": "markdown",
   "id": "d8eb333e",
   "metadata": {},
   "source": [
    "Run `runaqdhdr2cdf.py gatts_bel5.txt config_bel5.yaml`"
   ]
  },
  {
   "cell_type": "code",
   "execution_count": null,
   "id": "8c4d396a",
   "metadata": {},
   "outputs": [],
   "source": [
    "ds = xr.load_dataset('data/aqdbel5/bel5aqd-raw.cdf')"
   ]
  },
  {
   "cell_type": "code",
   "execution_count": null,
   "id": "05278360",
   "metadata": {},
   "outputs": [],
   "source": [
    "ds"
   ]
  },
  {
   "cell_type": "markdown",
   "id": "421366ea",
   "metadata": {},
   "source": [
    "Now convert to clean netcdf. We won't do an atmospheric correction yet.\n",
    "\n",
    "`runaqdcdf2nc.py bel5aqd-raw.cdf`"
   ]
  },
  {
   "cell_type": "code",
   "execution_count": null,
   "id": "eb65b0b9",
   "metadata": {},
   "outputs": [],
   "source": [
    "ds = xr.load_dataset('data/aqdbel5/bel5aqd-a.nc')"
   ]
  },
  {
   "cell_type": "code",
   "execution_count": null,
   "id": "6a76d41b",
   "metadata": {},
   "outputs": [],
   "source": [
    "ds"
   ]
  },
  {
   "cell_type": "code",
   "execution_count": null,
   "id": "19fcd5c6",
   "metadata": {},
   "outputs": [],
   "source": [
    "ds.Hdg_1215.plot()"
   ]
  },
  {
   "cell_type": "markdown",
   "id": "cd2338a0",
   "metadata": {},
   "source": [
    "Now we will run Aquadopp waves\n",
    "\n",
    "`runwvswad2cdf.py gatts_bel4.txt config_bel4.yaml`\n",
    "\n",
    "`runwvscdf2nc.py BEL19B4C02wv-raw.cdf`\n",
    "\n",
    "`runwvsnc2waves.py BEL19B4C02wvb-cal.nc`"
   ]
  },
  {
   "cell_type": "code",
   "execution_count": null,
   "id": "828144ea",
   "metadata": {},
   "outputs": [],
   "source": [
    "ds = xr.load_dataset('data/aqdbel4/BEL19B4C02wvs-a.nc')"
   ]
  },
  {
   "cell_type": "code",
   "execution_count": null,
   "id": "eaf2e9a7",
   "metadata": {},
   "outputs": [],
   "source": [
    "ds"
   ]
  },
  {
   "cell_type": "code",
   "execution_count": null,
   "id": "f3ed566c",
   "metadata": {},
   "outputs": [],
   "source": [
    "ds.wh_4061.plot()"
   ]
  },
  {
   "cell_type": "code",
   "execution_count": null,
   "id": "e09146fa",
   "metadata": {},
   "outputs": [],
   "source": []
  }
 ],
 "metadata": {
  "kernelspec": {
   "display_name": "Python 3 (ipykernel)",
   "language": "python",
   "name": "python3"
  },
  "language_info": {
   "codemirror_mode": {
    "name": "ipython",
    "version": 3
   },
   "file_extension": ".py",
   "mimetype": "text/x-python",
   "name": "python",
   "nbconvert_exporter": "python",
   "pygments_lexer": "ipython3",
   "version": "3.11.3"
  }
 },
 "nbformat": 4,
 "nbformat_minor": 5
}
