{
 "cells": [
  {
   "cell_type": "markdown",
   "id": "06b89498",
   "metadata": {},
   "source": [
    "# Aquadopp processing\n",
    "\n",
    "In this notebook we will process Aquadopp data. Here, the Aquadopp was run in currents (non-HR) mode and also with wave bursts enabled. We will process both components of the data set here. We have already used the Nortek AquaPro software to export from the instrument binary to ASCII text.\n",
    "\n",
    "## Convert from exported ASCII data to raw .cdf \n",
    "\n",
    "In a terminal window, change to the `data/aqdbel4` directory. Take a look at the global attributes and config yaml files.\n",
    "\n",
    "Our run script this time is\n",
    "- `run` (run)\n",
    "- `aqd` (Aquadopp)\n",
    "- `hdr2cdf` (hdr for the file extension of the exported header file from AquaPro)\n",
    "- `.py`\n",
    "\n",
    "Run `runaqdhdr2cdf.py gatts_bel4.txt config_bel4.yaml` to convert the exported ASCII data to raw .cdf fil."
   ]
  },
  {
   "cell_type": "code",
   "execution_count": null,
   "id": "22b9983a",
   "metadata": {},
   "outputs": [],
   "source": [
    "import xarray as xr\n",
    "import hvplot.xarray"
   ]
  },
  {
   "cell_type": "code",
   "execution_count": null,
   "id": "8c4d396a",
   "metadata": {},
   "outputs": [],
   "source": [
    "ds = xr.load_dataset('data/aqdbel4/BEL19B4C02-raw.cdf')"
   ]
  },
  {
   "cell_type": "markdown",
   "id": "45ca06a2",
   "metadata": {},
   "source": [
    "Look at the data by typing \"ds\". Explore the attributes and data variables. Note the names and coordinates."
   ]
  },
  {
   "cell_type": "code",
   "execution_count": null,
   "id": "05278360",
   "metadata": {},
   "outputs": [],
   "source": [
    "ds"
   ]
  },
  {
   "cell_type": "markdown",
   "id": "421366ea",
   "metadata": {},
   "source": [
    "## Convert from raw to clean .nc\n",
    "Now convert to clean netcdf. We won't do an atmospheric correction yet.\n",
    "\n",
    "`runaqdcdf2nc.py BEL19B4C02-raw.cdf`\n",
    "\n",
    "What messages do you see printed to the screen?"
   ]
  },
  {
   "cell_type": "code",
   "execution_count": null,
   "id": "eb65b0b9",
   "metadata": {},
   "outputs": [],
   "source": [
    "ds = xr.load_dataset('data/aqdbel4/BEL19B4C02-a.nc')"
   ]
  },
  {
   "cell_type": "markdown",
   "id": "716c9bfe",
   "metadata": {},
   "source": [
    "Check out the file. Note the variable names and dimensions, and also the variable attributes. Check also the global attributes."
   ]
  },
  {
   "cell_type": "code",
   "execution_count": null,
   "id": "6a76d41b",
   "metadata": {},
   "outputs": [],
   "source": [
    "ds"
   ]
  },
  {
   "cell_type": "code",
   "execution_count": null,
   "id": "19fcd5c6",
   "metadata": {},
   "outputs": [],
   "source": [
    "ds.u_1205.hvplot.image(x='time', y='z') * ds.P_1.hvplot()"
   ]
  },
  {
   "cell_type": "markdown",
   "id": "037d4e2c",
   "metadata": {},
   "source": [
    "Now take a look at the messages printed by `runaqdcdf2nc.py`. Let's fix some of them.\n",
    "\n",
    "We will enable `Deployment_date` and `Recovery_date` in the config yaml file. We will also set a magnetic decliation. Check out the stglib documentation on how to do this. We also need to set a trim_method.\n",
    "\n",
    "We will need to start the process from the beginning, since the global attributes and config yaml files are only read on the first step (`hdr2cdf`)."
   ]
  },
  {
   "cell_type": "markdown",
   "id": "cd2338a0",
   "metadata": {},
   "source": [
    "## Process Aquadopp waves\n",
    "Now we will run Aquadopp waves\n",
    "\n",
    "`runwvswad2cdf.py gatts_bel4.txt config_bel4.yaml`\n",
    "\n",
    "`runwvscdf2nc.py BEL19B4C02wv-raw.cdf`\n",
    "\n",
    "`runwvsnc2waves.py BEL19B4C02wvb-cal.nc`"
   ]
  },
  {
   "cell_type": "code",
   "execution_count": null,
   "id": "828144ea",
   "metadata": {},
   "outputs": [],
   "source": [
    "ds = xr.load_dataset('data/aqdbel4/BEL19B4C02wvs-a.nc')"
   ]
  },
  {
   "cell_type": "code",
   "execution_count": null,
   "id": "eaf2e9a7",
   "metadata": {},
   "outputs": [],
   "source": [
    "ds"
   ]
  },
  {
   "cell_type": "code",
   "execution_count": null,
   "id": "f3ed566c",
   "metadata": {},
   "outputs": [],
   "source": [
    "ds.wh_4061.hvplot()"
   ]
  },
  {
   "cell_type": "markdown",
   "id": "cf5a5fd7",
   "metadata": {},
   "source": [
    "# Now run the same but account for atmospheric compensation"
   ]
  },
  {
   "cell_type": "code",
   "execution_count": null,
   "id": "11ad9472",
   "metadata": {},
   "outputs": [],
   "source": []
  }
 ],
 "metadata": {
  "kernelspec": {
   "display_name": "Python 3 (ipykernel)",
   "language": "python",
   "name": "python3"
  },
  "language_info": {
   "codemirror_mode": {
    "name": "ipython",
    "version": 3
   },
   "file_extension": ".py",
   "mimetype": "text/x-python",
   "name": "python",
   "nbconvert_exporter": "python",
   "pygments_lexer": "ipython3",
   "version": "3.10.9"
  }
 },
 "nbformat": 4,
 "nbformat_minor": 5
}
