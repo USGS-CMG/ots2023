{
 "cells": [
  {
   "cell_type": "code",
   "execution_count": null,
   "id": "8d3298de",
   "metadata": {},
   "outputs": [],
   "source": [
    "import xarray as xr\n",
    "import hvplot.xarray"
   ]
  },
  {
   "cell_type": "code",
   "execution_count": null,
   "id": "a20098e7",
   "metadata": {},
   "outputs": [],
   "source": [
    "ds = xr.open_dataset('http://geoport.usgs.esipfed.org/thredds/dodsC/sand/usgs/users/dnowacki/waves/wapa.nc')"
   ]
  },
  {
   "cell_type": "code",
   "execution_count": null,
   "id": "b4ea7a47",
   "metadata": {},
   "outputs": [],
   "source": [
    "ds"
   ]
  },
  {
   "cell_type": "code",
   "execution_count": null,
   "id": "1a74676f",
   "metadata": {},
   "outputs": [],
   "source": [
    "ds.significantWaveHeight.hvplot()"
   ]
  },
  {
   "cell_type": "code",
   "execution_count": null,
   "id": "bc7027ac",
   "metadata": {},
   "outputs": [],
   "source": [
    "dsnew = ds.where(ds.significantWaveHeight > 2, drop=True)\n",
    "dsnew.to_netcdf('bigwaves.nc')"
   ]
  },
  {
   "cell_type": "code",
   "execution_count": null,
   "id": "a00cdac7",
   "metadata": {},
   "outputs": [],
   "source": [
    "dsnew2 = xr.load_dataset('bigwaves.nc')"
   ]
  },
  {
   "cell_type": "code",
   "execution_count": null,
   "id": "b1bc7c0b",
   "metadata": {},
   "outputs": [],
   "source": [
    "dsnew2"
   ]
  },
  {
   "cell_type": "code",
   "execution_count": null,
   "id": "af815d9a",
   "metadata": {},
   "outputs": [],
   "source": [
    "url = \"https://geoport.usgs.esipfed.org/erddap/tabledap/waves-wapa\""
   ]
  },
  {
   "cell_type": "code",
   "execution_count": null,
   "id": "37111274",
   "metadata": {},
   "outputs": [],
   "source": [
    "ds = xr.open_dataset(url)"
   ]
  },
  {
   "cell_type": "code",
   "execution_count": null,
   "id": "b5b8a609",
   "metadata": {},
   "outputs": [],
   "source": []
  },
  {
   "cell_type": "code",
   "execution_count": null,
   "id": "b39d8f00",
   "metadata": {},
   "outputs": [],
   "source": [
    "big = ds.sel(time=slice(''))\n",
    "big['s.significantWaveHeight'].plot()"
   ]
  },
  {
   "cell_type": "code",
   "execution_count": null,
   "id": "68e6cd66",
   "metadata": {},
   "outputs": [],
   "source": [
    "# sst = da['SST'].sel(  \n",
    "#                   latitude=slice(44., 48.),  \n",
    "#                   longitude=slice(-128, -121), \n",
    "#                   time='2017-01-13T00:00:00'\n",
    "#                  )\n",
    "# sst"
   ]
  }
 ],
 "metadata": {
  "kernelspec": {
   "display_name": "Python 3 (ipykernel)",
   "language": "python",
   "name": "python3"
  },
  "language_info": {
   "codemirror_mode": {
    "name": "ipython",
    "version": 3
   },
   "file_extension": ".py",
   "mimetype": "text/x-python",
   "name": "python",
   "nbconvert_exporter": "python",
   "pygments_lexer": "ipython3",
   "version": "3.11.3"
  }
 },
 "nbformat": 4,
 "nbformat_minor": 5
}
