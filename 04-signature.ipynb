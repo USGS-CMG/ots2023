{
 "cells": [
  {
   "cell_type": "markdown",
   "id": "b8f57420",
   "metadata": {},
   "source": [
    "`runsigmat2cdf.py glob_att1126_sig1.txt sig1126_config.yaml`\n",
    "\n",
    "Note we have many files created. At least one for each .mat file used as input (one for each data type), plus a final merged file for each data type. In this case,\n",
    "\n",
    "- `11261sig_burst-raw.cdf`\n",
    "- `11261sig_burstrawalt-raw.cdf`\n",
    "- `11261sig_iburst-raw.cdf`\n",
    "\n",
    "Let's take a look"
   ]
  },
  {
   "cell_type": "code",
   "execution_count": null,
   "id": "e1546b8a",
   "metadata": {},
   "outputs": [],
   "source": [
    "import xarray as xr"
   ]
  },
  {
   "cell_type": "code",
   "execution_count": null,
   "id": "4a5f7a5e",
   "metadata": {},
   "outputs": [],
   "source": [
    "# since these files can get big, we use open_dataset which uses lazy loading,\n",
    "# instead of load_dataset, which loads it all into memory\n",
    "b = xr.open_dataset('data/sig1126/11261sig_burst-raw.cdf')"
   ]
  },
  {
   "cell_type": "code",
   "execution_count": null,
   "id": "3362f297",
   "metadata": {},
   "outputs": [],
   "source": [
    "b"
   ]
  },
  {
   "cell_type": "markdown",
   "id": "93e18749",
   "metadata": {},
   "source": [
    "Now process to clean .nc. Hmm, how do we specify on the commandline? Run it without any options and see\n",
    "\n",
    "`runsigcdf2nc.py`"
   ]
  },
  {
   "cell_type": "code",
   "execution_count": null,
   "id": "34a150da",
   "metadata": {},
   "outputs": [],
   "source": []
  }
 ],
 "metadata": {
  "kernelspec": {
   "display_name": "Python 3 (ipykernel)",
   "language": "python",
   "name": "python3"
  },
  "language_info": {
   "codemirror_mode": {
    "name": "ipython",
    "version": 3
   },
   "file_extension": ".py",
   "mimetype": "text/x-python",
   "name": "python",
   "nbconvert_exporter": "python",
   "pygments_lexer": "ipython3",
   "version": "3.11.3"
  }
 },
 "nbformat": 4,
 "nbformat_minor": 5
}
