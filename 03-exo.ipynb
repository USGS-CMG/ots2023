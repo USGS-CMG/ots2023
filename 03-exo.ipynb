{
 "cells": [
  {
   "cell_type": "markdown",
   "id": "07b26780",
   "metadata": {},
   "source": [
    "# Process EXO data\n",
    "\n",
    "`runexocsv2cdf.py glob_att1151b.txt 1151Bexo_config.yaml`\n",
    "\n",
    "Note clock drift has been applied"
   ]
  },
  {
   "cell_type": "code",
   "execution_count": null,
   "id": "b175d032",
   "metadata": {},
   "outputs": [],
   "source": [
    "import xarray as xr\n",
    "ds = xr.load_dataset('data/exo1151/1151Bexo-raw.cdf')"
   ]
  },
  {
   "cell_type": "code",
   "execution_count": null,
   "id": "552ffa25",
   "metadata": {},
   "outputs": [],
   "source": [
    "ds"
   ]
  },
  {
   "cell_type": "code",
   "execution_count": null,
   "id": "b6c87db9",
   "metadata": {},
   "outputs": [],
   "source": [
    "ds.Turbidity_NTU.plot()"
   ]
  },
  {
   "cell_type": "markdown",
   "id": "4762a88a",
   "metadata": {},
   "source": [
    "Some bad data in that turbidity record. We can apply some QAQC to take care of it. Check the config yaml file"
   ]
  },
  {
   "cell_type": "code",
   "execution_count": null,
   "id": "69662022",
   "metadata": {},
   "outputs": [],
   "source": [
    "with open('data/exo1151/1151Bexo_config.yaml') as f:\n",
    "    print(f.read())"
   ]
  },
  {
   "cell_type": "markdown",
   "id": "a31dfa7f",
   "metadata": {},
   "source": [
    "Check out that Turbidity median diff filter. Let's process to nc and check it out to see if it worked.\n",
    "\n",
    "`runexocdf2nc.py 1151Bexo-raw.cdf`"
   ]
  },
  {
   "cell_type": "code",
   "execution_count": null,
   "id": "5b9b0248",
   "metadata": {},
   "outputs": [],
   "source": [
    "ds = xr.load_dataset('data/exo1151/1151Bexo-a.nc')"
   ]
  },
  {
   "cell_type": "code",
   "execution_count": null,
   "id": "70f89912",
   "metadata": {},
   "outputs": [],
   "source": [
    "ds"
   ]
  },
  {
   "cell_type": "code",
   "execution_count": null,
   "id": "7833a2ee",
   "metadata": {},
   "outputs": [],
   "source": [
    "ds.Turb.plot()"
   ]
  },
  {
   "cell_type": "markdown",
   "id": "573e2872",
   "metadata": {},
   "source": [
    "Looks better but could use more. What would you do?\n",
    "\n",
    "As before, re-run with atmospheric correction applied."
   ]
  },
  {
   "cell_type": "code",
   "execution_count": null,
   "id": "8a8a5ce7",
   "metadata": {},
   "outputs": [],
   "source": []
  }
 ],
 "metadata": {
  "kernelspec": {
   "display_name": "Python 3 (ipykernel)",
   "language": "python",
   "name": "python3"
  },
  "language_info": {
   "codemirror_mode": {
    "name": "ipython",
    "version": 3
   },
   "file_extension": ".py",
   "mimetype": "text/x-python",
   "name": "python",
   "nbconvert_exporter": "python",
   "pygments_lexer": "ipython3",
   "version": "3.11.3"
  }
 },
 "nbformat": 4,
 "nbformat_minor": 5
}
